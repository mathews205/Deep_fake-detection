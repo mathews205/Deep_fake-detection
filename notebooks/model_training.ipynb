{
 "cells": [
  {
   "cell_type": "markdown",
   "metadata": {},
   "source": [
    "Import Libraries"
   ]
  },
  {
   "cell_type": "code",
   "execution_count": 2,
   "metadata": {},
   "outputs": [],
   "source": [
    "# Import Libraries\n",
    "import os\n",
    "from tensorflow.keras.applications import Xception\n",
    "from tensorflow.keras.layers import Dense, Dropout, GlobalAveragePooling2D\n",
    "from tensorflow.keras.models import Model\n",
    "from tensorflow.keras.optimizers import Adam\n",
    "from tensorflow.keras.preprocessing.image import ImageDataGenerator\n",
    "from tensorflow.keras.callbacks import EarlyStopping, ReduceLROnPlateau\n",
    "from sklearn.metrics import confusion_matrix, classification_report, roc_auc_score,roc_curve, auc\n",
    "import numpy as np\n",
    "import matplotlib.pyplot as plt"
   ]
  },
  {
   "cell_type": "markdown",
   "metadata": {},
   "source": [
    "Define Dataset Paths"
   ]
  },
  {
   "cell_type": "code",
   "execution_count": 3,
   "metadata": {},
   "outputs": [],
   "source": [
    "# Define dataset directories\n",
    "base_path = r\"C:\\Users\\mathe\\Documents\\deepfake_detection\"\n",
    "train_dir = os.path.join(base_path, \"frames\", \"train\")\n",
    "val_dir = os.path.join(base_path, \"frames\", \"val\")\n",
    "test_dir = os.path.join(base_path, \"frames\", \"test\")"
   ]
  },
  {
   "cell_type": "markdown",
   "metadata": {},
   "source": [
    "Data Generators"
   ]
  },
  {
   "cell_type": "code",
   "execution_count": 4,
   "metadata": {},
   "outputs": [
    {
     "name": "stdout",
     "output_type": "stream",
     "text": [
      "Found 7394 images belonging to 2 classes.\n",
      "Found 2113 images belonging to 2 classes.\n",
      "Found 1058 images belonging to 2 classes.\n"
     ]
    }
   ],
   "source": [
    "# Data generators with reduced input size (150x150)\n",
    "train_datagen = ImageDataGenerator(rescale=1.0 / 255, horizontal_flip=True)\n",
    "val_datagen = ImageDataGenerator(rescale=1.0 / 255)\n",
    "test_datagen = ImageDataGenerator(rescale=1.0 / 255)\n",
    "\n",
    "train_generator = train_datagen.flow_from_directory(\n",
    "    train_dir, target_size=(150, 150), batch_size=16, class_mode='binary'\n",
    ")\n",
    "val_generator = val_datagen.flow_from_directory(\n",
    "    val_dir, target_size=(150, 150), batch_size=16, class_mode='binary'\n",
    ")\n",
    "test_generator = test_datagen.flow_from_directory(\n",
    "    test_dir, target_size=(150, 150), batch_size=16, class_mode='binary', shuffle=False\n",
    ")"
   ]
  },
  {
   "cell_type": "markdown",
   "metadata": {},
   "source": [
    "Load Pre-Trained Model"
   ]
  },
  {
   "cell_type": "code",
   "execution_count": 5,
   "metadata": {},
   "outputs": [],
   "source": [
    "# Load pre-trained Xception model\n",
    "base_model = Xception(weights='imagenet', include_top=False, input_shape=(150, 150, 3))\n",
    "\n",
    "# Freeze all layers in the base model initially\n",
    "for layer in base_model.layers:\n",
    "    layer.trainable = False\n",
    "\n",
    "# Add custom classification layers\n",
    "x = base_model.output\n",
    "x = GlobalAveragePooling2D()(x)\n",
    "x = Dropout(0.3)(x)  # Reduced dropout for faster training\n",
    "x = Dense(64, activation='relu')(x)  # Smaller dense layer\n",
    "predictions = Dense(1, activation='sigmoid')(x)\n",
    "\n",
    "model = Model(inputs=base_model.input, outputs=predictions)\n",
    "\n",
    "# Compile the model\n",
    "model.compile(optimizer=Adam(learning_rate=1e-4), loss='binary_crossentropy', metrics=['accuracy'])"
   ]
  },
  {
   "cell_type": "code",
   "execution_count": 2,
   "metadata": {},
   "outputs": [
    {
     "name": "stdout",
     "output_type": "stream",
     "text": [
      "WARNING:tensorflow:From C:\\Users\\mathe\\AppData\\Roaming\\Python\\Python312\\site-packages\\keras\\src\\backend\\common\\global_state.py:82: The name tf.reset_default_graph is deprecated. Please use tf.compat.v1.reset_default_graph instead.\n",
      "\n"
     ]
    }
   ],
   "source": [
    "import tensorflow as tf\n",
    "tf.keras.backend.clear_session()"
   ]
  },
  {
   "cell_type": "markdown",
   "metadata": {},
   "source": [
    "Train the Classification Head"
   ]
  },
  {
   "cell_type": "code",
   "execution_count": 6,
   "metadata": {},
   "outputs": [
    {
     "name": "stderr",
     "output_type": "stream",
     "text": [
      "C:\\Users\\mathe\\AppData\\Roaming\\Python\\Python312\\site-packages\\keras\\src\\trainers\\data_adapters\\py_dataset_adapter.py:121: UserWarning: Your `PyDataset` class should call `super().__init__(**kwargs)` in its constructor. `**kwargs` can include `workers`, `use_multiprocessing`, `max_queue_size`. Do not pass these arguments to `fit()`, as they will be ignored.\n",
      "  self._warn_if_super_not_called()\n"
     ]
    },
    {
     "name": "stdout",
     "output_type": "stream",
     "text": [
      "Epoch 1/5\n",
      "\u001b[1m463/463\u001b[0m \u001b[32m━━━━━━━━━━━━━━━━━━━━\u001b[0m\u001b[37m\u001b[0m \u001b[1m297s\u001b[0m 634ms/step - accuracy: 0.5910 - loss: 0.6729 - val_accuracy: 0.6730 - val_loss: 0.5965 - learning_rate: 1.0000e-04\n",
      "Epoch 2/5\n",
      "\u001b[1m463/463\u001b[0m \u001b[32m━━━━━━━━━━━━━━━━━━━━\u001b[0m\u001b[37m\u001b[0m \u001b[1m264s\u001b[0m 569ms/step - accuracy: 0.6746 - loss: 0.5962 - val_accuracy: 0.6952 - val_loss: 0.5712 - learning_rate: 1.0000e-04\n",
      "Epoch 3/5\n",
      "\u001b[1m463/463\u001b[0m \u001b[32m━━━━━━━━━━━━━━━━━━━━\u001b[0m\u001b[37m\u001b[0m \u001b[1m266s\u001b[0m 575ms/step - accuracy: 0.6793 - loss: 0.5843 - val_accuracy: 0.7151 - val_loss: 0.5549 - learning_rate: 1.0000e-04\n",
      "Epoch 4/5\n",
      "\u001b[1m463/463\u001b[0m \u001b[32m━━━━━━━━━━━━━━━━━━━━\u001b[0m\u001b[37m\u001b[0m \u001b[1m2235s\u001b[0m 5s/step - accuracy: 0.6940 - loss: 0.5662 - val_accuracy: 0.6985 - val_loss: 0.5537 - learning_rate: 1.0000e-04\n",
      "Epoch 5/5\n",
      "\u001b[1m463/463\u001b[0m \u001b[32m━━━━━━━━━━━━━━━━━━━━\u001b[0m\u001b[37m\u001b[0m \u001b[1m268s\u001b[0m 579ms/step - accuracy: 0.7199 - loss: 0.5388 - val_accuracy: 0.7175 - val_loss: 0.5382 - learning_rate: 1.0000e-04\n"
     ]
    }
   ],
   "source": [
    "# Callbacks for training\n",
    "early_stopping = EarlyStopping(monitor='val_loss', patience=3, verbose=1)\n",
    "reduce_lr = ReduceLROnPlateau(monitor='val_loss', factor=0.5, patience=2, verbose=1)\n",
    "\n",
    "# Train only the classification head for 5 epochs\n",
    "history = model.fit(\n",
    "    train_generator,\n",
    "    validation_data=val_generator,\n",
    "    epochs=5,\n",
    "    callbacks=[early_stopping, reduce_lr]\n",
    ")"
   ]
  },
  {
   "cell_type": "markdown",
   "metadata": {},
   "source": [
    "Fine-Tune the Model"
   ]
  },
  {
   "cell_type": "code",
   "execution_count": 7,
   "metadata": {},
   "outputs": [
    {
     "name": "stdout",
     "output_type": "stream",
     "text": [
      "Epoch 1/5\n",
      "\u001b[1m463/463\u001b[0m \u001b[32m━━━━━━━━━━━━━━━━━━━━\u001b[0m\u001b[37m\u001b[0m \u001b[1m22934s\u001b[0m 50s/step - accuracy: 0.6684 - loss: 0.6072 - val_accuracy: 0.7231 - val_loss: 0.5416 - learning_rate: 1.0000e-05\n",
      "Epoch 2/5\n",
      "\u001b[1m463/463\u001b[0m \u001b[32m━━━━━━━━━━━━━━━━━━━━\u001b[0m\u001b[37m\u001b[0m \u001b[1m328s\u001b[0m 709ms/step - accuracy: 0.6932 - loss: 0.5564 - val_accuracy: 0.7250 - val_loss: 0.5253 - learning_rate: 1.0000e-05\n",
      "Epoch 3/5\n",
      "\u001b[1m463/463\u001b[0m \u001b[32m━━━━━━━━━━━━━━━━━━━━\u001b[0m\u001b[37m\u001b[0m \u001b[1m319s\u001b[0m 689ms/step - accuracy: 0.7277 - loss: 0.5260 - val_accuracy: 0.7392 - val_loss: 0.5087 - learning_rate: 1.0000e-05\n",
      "Epoch 4/5\n",
      "\u001b[1m463/463\u001b[0m \u001b[32m━━━━━━━━━━━━━━━━━━━━\u001b[0m\u001b[37m\u001b[0m \u001b[1m324s\u001b[0m 700ms/step - accuracy: 0.7306 - loss: 0.5110 - val_accuracy: 0.7435 - val_loss: 0.4970 - learning_rate: 1.0000e-05\n",
      "Epoch 5/5\n",
      "\u001b[1m463/463\u001b[0m \u001b[32m━━━━━━━━━━━━━━━━━━━━\u001b[0m\u001b[37m\u001b[0m \u001b[1m321s\u001b[0m 693ms/step - accuracy: 0.7496 - loss: 0.5024 - val_accuracy: 0.7468 - val_loss: 0.4904 - learning_rate: 1.0000e-05\n"
     ]
    }
   ],
   "source": [
    "# Unfreeze last 10 layers\n",
    "for layer in base_model.layers[-10:]:\n",
    "    layer.trainable = True\n",
    "\n",
    "# Recompile with a lower learning rate\n",
    "model.compile(optimizer=Adam(learning_rate=1e-5), loss='binary_crossentropy', metrics=['accuracy'])\n",
    "\n",
    "# Fine-tune the model for 5 more epochs\n",
    "fine_tune_history = model.fit(\n",
    "    train_generator,\n",
    "    validation_data=val_generator,\n",
    "    epochs=5,\n",
    "    callbacks=[early_stopping, reduce_lr]\n",
    ")"
   ]
  },
  {
   "cell_type": "code",
   "execution_count": 62,
   "metadata": {},
   "outputs": [],
   "source": [
    "model_path = os.path.join(base_path, \"models\", \"fine_tuned_xception.keras\")\n",
    "model.save(model_path)  # Save in Keras format\n",
    "model.save(model_path, include_optimizer=False)"
   ]
  },
  {
   "cell_type": "markdown",
   "metadata": {},
   "source": [
    "Visualize Training Performance"
   ]
  },
  {
   "cell_type": "code",
   "execution_count": 65,
   "metadata": {},
   "outputs": [
    {
     "name": "stdout",
     "output_type": "stream",
     "text": [
      "\u001b[1m67/67\u001b[0m \u001b[32m━━━━━━━━━━━━━━━━━━━━\u001b[0m\u001b[37m\u001b[0m \u001b[1m31s\u001b[0m 458ms/step - accuracy: 0.7433 - loss: 0.5923\n",
      "Test Loss: 0.7509865760803223\n",
      "Test Accuracy: 0.48771265149116516\n",
      "\u001b[1m67/67\u001b[0m \u001b[32m━━━━━━━━━━━━━━━━━━━━\u001b[0m\u001b[37m\u001b[0m \u001b[1m33s\u001b[0m 494ms/step\n",
      "Confusion Matrix:\n",
      "[[420  64]\n",
      " [478  96]]\n",
      "Classification Report:\n",
      "              precision    recall  f1-score   support\n",
      "\n",
      "           0       0.47      0.87      0.61       484\n",
      "           1       0.60      0.17      0.26       574\n",
      "\n",
      "    accuracy                           0.49      1058\n",
      "   macro avg       0.53      0.52      0.43      1058\n",
      "weighted avg       0.54      0.49      0.42      1058\n",
      "\n",
      "ROC-AUC: 0.5175079909004521\n"
     ]
    }
   ],
   "source": [
    "# Evaluate on the test set\n",
    "loss, accuracy = model.evaluate(test_generator)\n",
    "print(f\"Test Loss: {loss}\")\n",
    "print(f\"Test Accuracy: {accuracy}\")\n",
    "\n",
    "# Custom metrics: Confusion matrix, precision, recall, F1-score, and ROC-AUC\n",
    "y_true = test_generator.classes\n",
    "y_pred = (model.predict(test_generator) > 0.5).astype('int')\n",
    "\n",
    "# Confusion matrix\n",
    "conf_matrix = confusion_matrix(y_true, y_pred)\n",
    "print(\"Confusion Matrix:\")\n",
    "print(conf_matrix)\n",
    "\n",
    "# Classification report\n",
    "print(\"Classification Report:\")\n",
    "print(classification_report(y_true, y_pred))\n",
    "\n",
    "# ROC-AUC\n",
    "roc_auc = roc_auc_score(y_true, y_pred)\n",
    "print(f\"ROC-AUC: {roc_auc}\")\n",
    "\n"
   ]
  },
  {
   "cell_type": "code",
   "execution_count": 64,
   "metadata": {},
   "outputs": [
    {
     "data": {
      "image/png": "[encoded data removed]",
      "text/plain": [
       "<Figure size 640x480 with 1 Axes>"
      ]
     },
     "metadata": {},
     "output_type": "display_data"
    }
   ],
   "source": [
    "# Compute ROC curve and AUC\n",
    "fpr, tpr, thresholds = roc_curve(y_true, y_pred)\n",
    "roc_auc = auc(fpr, tpr)\n",
    "\n",
    "# Plot the ROC curve\n",
    "plt.figure()\n",
    "plt.plot(fpr, tpr, color='blue', lw=2, label=f\"ROC curve (AUC = {roc_auc:.2f})\")\n",
    "plt.plot([0, 1], [0, 1], color='gray', linestyle='--')  # Diagonal line\n",
    "plt.xlim([0.0, 1.0])\n",
    "plt.ylim([0.0, 1.05])\n",
    "plt.xlabel(\"False Positive Rate\")\n",
    "plt.ylabel(\"True Positive Rate\")\n",
    "plt.title(\"Receiver Operating Characteristic (ROC) Curve\")\n",
    "plt.legend(loc=\"lower right\")\n",
    "plt.show()"
   ]
  },
  {
   "cell_type": "markdown",
   "metadata": {},
   "source": [
    "2 - optimized set of fine-tuning values and code for improving scores"
   ]
  },
  {
   "cell_type": "code",
   "execution_count": 21,
   "metadata": {},
   "outputs": [
    {
     "name": "stdout",
     "output_type": "stream",
     "text": [
      "Model loaded successfully!\n"
     ]
    }
   ],
   "source": [
    "# Load the Pre-Trained Model\n",
    "model = load_model(r\"C:\\Users\\mathe\\Documents\\deepfake_detection\\models\\fine_tuned_xception.keras\")\n",
    "print(\"Model loaded successfully!\")"
   ]
  },
  {
   "cell_type": "code",
   "execution_count": 23,
   "metadata": {},
   "outputs": [],
   "source": [
    "# Freeze All Layers Initially\n",
    "for layer in model.layers:\n",
    "    layer.trainable = False"
   ]
  },
  {
   "cell_type": "code",
   "execution_count": 24,
   "metadata": {},
   "outputs": [
    {
     "name": "stdout",
     "output_type": "stream",
     "text": [
      "Last 5 layers unfrozen for fine-tuning.\n"
     ]
    }
   ],
   "source": [
    "# Unfreeze the Last 5 Layers for Fine-Tuning\n",
    "for layer in model.layers[-5:]:\n",
    "    layer.trainable = True\n",
    "print(\"Last 5 layers unfrozen for fine-tuning.\")"
   ]
  },
  {
   "cell_type": "code",
   "execution_count": 26,
   "metadata": {},
   "outputs": [
    {
     "name": "stdout",
     "output_type": "stream",
     "text": [
      "Model compiled successfully!\n"
     ]
    }
   ],
   "source": [
    "from tensorflow.keras.optimizers import RMSprop\n",
    "# Compile the Model\n",
    "model.compile(\n",
    "    optimizer=RMSprop(learning_rate=5e-5),  # Slightly larger learning rate for quick convergence\n",
    "    loss='binary_crossentropy',\n",
    "    metrics=['accuracy']\n",
    ")\n",
    "print(\"Model compiled successfully!\")"
   ]
  },
  {
   "cell_type": "code",
   "execution_count": 48,
   "metadata": {},
   "outputs": [
    {
     "name": "stdout",
     "output_type": "stream",
     "text": [
      "Found 7394 images belonging to 2 classes.\n",
      "Found 2113 images belonging to 2 classes.\n",
      "Data generators created successfully!\n"
     ]
    }
   ],
   "source": [
    "from tensorflow.keras.preprocessing.image import ImageDataGenerator\n",
    "\n",
    "# Data Preparation\n",
    "train_datagen = ImageDataGenerator(rescale=1.0 / 255, horizontal_flip=True)\n",
    "val_datagen = ImageDataGenerator(rescale=1.0 / 255)\n",
    "\n",
    "# Correct dataset paths\n",
    "train_dir = r\"C:\\Users\\mathe\\Documents\\DEEPFAKE_DETECTION\\frames\\train\"\n",
    "val_dir = r\"C:\\Users\\mathe\\Documents\\DEEPFAKE_DETECTION\\frames\\val\"\n",
    "\n",
    "# Data Generators\n",
    "train_generator = train_datagen.flow_from_directory(\n",
    "    train_dir, target_size=(150, 150), batch_size=32, class_mode='binary'\n",
    ")\n",
    "\n",
    "val_generator = val_datagen.flow_from_directory(\n",
    "    val_dir, target_size=(150, 150), batch_size=32, class_mode='binary'\n",
    ")\n",
    "\n",
    "print(\"Data generators created successfully!\")"
   ]
  },
  {
   "cell_type": "code",
   "execution_count": 35,
   "metadata": {},
   "outputs": [
    {
     "name": "stdout",
     "output_type": "stream",
     "text": [
      "Epoch 1/3\n",
      "\u001b[1m232/232\u001b[0m \u001b[32m━━━━━━━━━━━━━━━━━━━━\u001b[0m\u001b[37m\u001b[0m \u001b[1m292s\u001b[0m 1s/step - accuracy: 0.7665 - loss: 0.4507 - val_accuracy: 0.7440 - val_loss: 0.4845 - learning_rate: 2.5000e-05\n",
      "Epoch 2/3\n",
      "\u001b[1m232/232\u001b[0m \u001b[32m━━━━━━━━━━━━━━━━━━━━\u001b[0m\u001b[37m\u001b[0m \u001b[1m291s\u001b[0m 1s/step - accuracy: 0.7726 - loss: 0.4510 - val_accuracy: 0.7402 - val_loss: 0.4840 - learning_rate: 2.5000e-05\n",
      "Epoch 3/3\n",
      "\u001b[1m232/232\u001b[0m \u001b[32m━━━━━━━━━━━━━━━━━━━━\u001b[0m\u001b[37m\u001b[0m \u001b[1m290s\u001b[0m 1s/step - accuracy: 0.7638 - loss: 0.4578 - val_accuracy: 0.7473 - val_loss: 0.4836 - learning_rate: 2.5000e-05\n",
      "Fine-tuning complete!\n"
     ]
    }
   ],
   "source": [
    "# Fine-Tune the Model\n",
    "early_stopping = EarlyStopping(monitor='val_loss', patience=2, verbose=1)\n",
    "reduce_lr = ReduceLROnPlateau(monitor='val_loss', factor=0.5, patience=1, verbose=1)\n",
    "\n",
    "history = model.fit(\n",
    "    train_generator,\n",
    "    validation_data=val_generator,\n",
    "    epochs=3,  # Reduced epochs for faster training\n",
    "    callbacks=[early_stopping, reduce_lr]\n",
    ")\n",
    "print(\"Fine-tuning complete!\")\n",
    "\n"
   ]
  },
  {
   "cell_type": "code",
   "execution_count": 46,
   "metadata": {},
   "outputs": [],
   "source": [
    "model_path = os.path.join(base_path, \"models\", \"fine_tuned_xception_second.keras\")\n",
    "model.save(model_path)  # Save in Keras format\n",
    "model.save(model_path, include_optimizer=False)"
   ]
  },
  {
   "cell_type": "code",
   "execution_count": 52,
   "metadata": {},
   "outputs": [
    {
     "name": "stdout",
     "output_type": "stream",
     "text": [
      "Found 2113 images belonging to 2 classes.\n"
     ]
    }
   ],
   "source": [
    "# Define the test data generator\n",
    "test_datagen = ImageDataGenerator(rescale=1.0 / 255)\n",
    "\n",
    "test_dir = r\"C:\\Users\\mathe\\Documents\\DEEPFAKE_DETECTION\\frames\\val\"\n",
    "\n",
    "# Create the test generator\n",
    "test_generator = test_datagen.flow_from_directory(\n",
    "    test_dir,\n",
    "    target_size=(150, 150),\n",
    "    batch_size=16,\n",
    "    class_mode='binary',\n",
    "    shuffle=False  # Important: Do not shuffle to align predictions with labels\n",
    ")"
   ]
  },
  {
   "cell_type": "code",
   "execution_count": 53,
   "metadata": {},
   "outputs": [
    {
     "name": "stderr",
     "output_type": "stream",
     "text": [
      "C:\\Users\\mathe\\AppData\\Roaming\\Python\\Python312\\site-packages\\keras\\src\\trainers\\data_adapters\\py_dataset_adapter.py:121: UserWarning: Your `PyDataset` class should call `super().__init__(**kwargs)` in its constructor. `**kwargs` can include `workers`, `use_multiprocessing`, `max_queue_size`. Do not pass these arguments to `fit()`, as they will be ignored.\n",
      "  self._warn_if_super_not_called()\n"
     ]
    },
    {
     "name": "stdout",
     "output_type": "stream",
     "text": [
      "\u001b[1m133/133\u001b[0m \u001b[32m━━━━━━━━━━━━━━━━━━━━\u001b[0m\u001b[37m\u001b[0m \u001b[1m68s\u001b[0m 487ms/step - accuracy: 0.7605 - loss: 0.5056\n",
      "Test Loss: 0.48358607292175293\n",
      "Test Accuracy: 0.7472787499427795\n"
     ]
    }
   ],
   "source": [
    "# Evaluate the model\n",
    "loss, accuracy = model.evaluate(test_generator)\n",
    "print(f\"Test Loss: {loss}\")\n",
    "print(f\"Test Accuracy: {accuracy}\")"
   ]
  },
  {
   "cell_type": "code",
   "execution_count": 54,
   "metadata": {},
   "outputs": [
    {
     "name": "stdout",
     "output_type": "stream",
     "text": [
      "\u001b[1m133/133\u001b[0m \u001b[32m━━━━━━━━━━━━━━━━━━━━\u001b[0m\u001b[37m\u001b[0m \u001b[1m64s\u001b[0m 470ms/step\n",
      "Predictions generated successfully!\n",
      "Classification Report:\n",
      "               precision    recall  f1-score   support\n",
      "\n",
      "        Real       0.69      0.81      0.75       967\n",
      "        Fake       0.81      0.69      0.75      1146\n",
      "\n",
      "    accuracy                           0.75      2113\n",
      "   macro avg       0.75      0.75      0.75      2113\n",
      "weighted avg       0.76      0.75      0.75      2113\n",
      "\n",
      "Confusion Matrix:\n",
      " [[783 184]\n",
      " [350 796]]\n"
     ]
    }
   ],
   "source": [
    "# Get predictions\n",
    "y_pred = model.predict(test_generator)\n",
    "y_pred_classes = (y_pred > 0.5).astype(int)  # Convert probabilities to binary classes\n",
    "\n",
    "# Get true labels\n",
    "y_true = test_generator.classes  # True labels\n",
    "print(\"Predictions generated successfully!\")\n",
    "\n",
    "# Generate classification report\n",
    "report = classification_report(y_true, y_pred_classes, target_names=[\"Real\", \"Fake\"])\n",
    "print(\"Classification Report:\\n\", report)\n",
    "\n",
    "# Compute confusion matrix\n",
    "conf_matrix = confusion_matrix(y_true, y_pred_classes)\n",
    "print(\"Confusion Matrix:\\n\", conf_matrix)"
   ]
  },
  {
   "cell_type": "code",
   "execution_count": 55,
   "metadata": {},
   "outputs": [
    {
     "data": {
      "image/png": "[encoded data removed]",
      "text/plain": [
       "<Figure size 640x480 with 1 Axes>"
      ]
     },
     "metadata": {},
     "output_type": "display_data"
    }
   ],
   "source": [
    "# Compute ROC curve and AUC\n",
    "fpr, tpr, thresholds = roc_curve(y_true, y_pred)\n",
    "roc_auc = auc(fpr, tpr)\n",
    "\n",
    "# Plot the ROC curve\n",
    "plt.figure()\n",
    "plt.plot(fpr, tpr, color='blue', lw=2, label=f\"ROC curve (AUC = {roc_auc:.2f})\")\n",
    "plt.plot([0, 1], [0, 1], color='gray', linestyle='--')  # Diagonal line\n",
    "plt.xlim([0.0, 1.0])\n",
    "plt.ylim([0.0, 1.05])\n",
    "plt.xlabel(\"False Positive Rate\")\n",
    "plt.ylabel(\"True Positive Rate\")\n",
    "plt.title(\"Receiver Operating Characteristic (ROC) Curve\")\n",
    "plt.legend(loc=\"lower right\")\n",
    "plt.show()"
   ]
  }
 ],
 "metadata": {
  "kernelspec": {
   "display_name": "Python 3",
   "language": "python",
   "name": "python3"
  },
  "language_info": {
   "codemirror_mode": {
    "name": "ipython",
    "version": 3
   },
   "file_extension": ".py",
   "mimetype": "text/x-python",
   "name": "python",
   "nbconvert_exporter": "python",
   "pygments_lexer": "ipython3",
   "version": "3.12.6"
  }
 },
 "nbformat": 4,
 "nbformat_minor": 2
}
